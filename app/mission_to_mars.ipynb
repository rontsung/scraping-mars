{
 "cells": [
  {
   "cell_type": "code",
   "execution_count": 129,
   "metadata": {
    "collapsed": true
   },
   "outputs": [],
   "source": [
    "# dependencies\n",
    "# https://splinter.readthedocs.io/en/latest/drivers/chrome.html\n",
    "from splinter import Browser\n",
    "from bs4 import BeautifulSoup\n",
    "import time\n",
    "import requests\n",
    "import pandas as pd\n",
    "import json"
   ]
  },
  {
   "cell_type": "code",
   "execution_count": 119,
   "metadata": {
    "collapsed": true
   },
   "outputs": [],
   "source": [
    "executable_path = {'executable_path': '/usr/local/bin/chromedriver'}\n",
    "browser = Browser('chrome', **executable_path, headless = True)"
   ]
  },
  {
   "cell_type": "code",
   "execution_count": 42,
   "metadata": {},
   "outputs": [
    {
     "data": {
      "text/plain": [
       "'Mars Mission Sheds Light on Habitability of Distant Planets'"
      ]
     },
     "execution_count": 42,
     "metadata": {},
     "output_type": "execute_result"
    }
   ],
   "source": [
    "url = 'https://mars.nasa.gov/news/'\n",
    "browser.visit(url)\n",
    "soup = BeautifulSoup(browser.html, 'html.parser')\n",
    "title = soup.find('div', 'content_title').text\n",
    "title\n"
   ]
  },
  {
   "cell_type": "code",
   "execution_count": 44,
   "metadata": {},
   "outputs": [
    {
     "data": {
      "text/plain": [
       "'How long might a rocky, Mars-like planet be habitable if it were orbiting a red dwarf star?'"
      ]
     },
     "execution_count": 44,
     "metadata": {},
     "output_type": "execute_result"
    }
   ],
   "source": [
    "url = 'https://mars.nasa.gov/news/'\n",
    "browser.visit(url)\n",
    "soup = BeautifulSoup(browser.html, 'html.parser')\n",
    "para = soup.find('div', 'article_teaser_body').text\n",
    "para"
   ]
  },
  {
   "cell_type": "code",
   "execution_count": 64,
   "metadata": {},
   "outputs": [
    {
     "data": {
      "text/plain": [
       "'https://www.jpl.nasa.gov/spaceimages/images/wallpaper/PIA19063-1920x1200.jpg'"
      ]
     },
     "execution_count": 64,
     "metadata": {},
     "output_type": "execute_result"
    }
   ],
   "source": [
    "url = 'https://www.jpl.nasa.gov/spaceimages/?search=&category=Mars'\n",
    "browser.visit(url)\n",
    "soup = BeautifulSoup(browser.html, 'html.parser')\n",
    "img_url = soup.find('article')['style']\n",
    "img_url = img_url[img_url.find('(')+2:img_url.find(')')-1]\n",
    "featured_image_url = 'https://www.jpl.nasa.gov'+img_url\n",
    "featured_image_url"
   ]
  },
  {
   "cell_type": "code",
   "execution_count": 74,
   "metadata": {},
   "outputs": [
    {
     "data": {
      "text/plain": [
       "'Sol 1910 (Dec 20, 2017), Sunny, high -23C/-9F, low -80C/-112F, pressure at 7.94 hPa, daylight 05:49-17:32'"
      ]
     },
     "execution_count": 74,
     "metadata": {},
     "output_type": "execute_result"
    }
   ],
   "source": [
    "url = 'https://twitter.com/marswxreport?lang=en'\n",
    "browser.visit(url)\n",
    "soup = BeautifulSoup(browser.html, 'html.parser')\n",
    "t = soup.find_all('p')\n",
    "for e in t:\n",
    "    if \"Sol\" in e.text:\n",
    "        mars_weather = e.text\n",
    "        break\n",
    "mars_weather"
   ]
  },
  {
   "cell_type": "code",
   "execution_count": 100,
   "metadata": {
    "collapsed": true
   },
   "outputs": [],
   "source": [
    "url = 'http://space-facts.com/mars/'\n",
    "browser.visit(url)\n",
    "soup = BeautifulSoup(browser.html, 'html.parser')\n",
    "t = soup.find('table').find_all('td')\n",
    "k=0\n",
    "ok = 0\n",
    "df = pd.DataFrame({})\n",
    "df[\"Property\"] = \"\"\n",
    "df[\"Value\"] = \"\"\n",
    "for e in t:\n",
    "    if ok % 2 == 0:\n",
    "        df.at[k, \"Property\"] = e.text.strip()\n",
    "        ok += 1\n",
    "    else:\n",
    "        df.at[k, \"Value\"]= e.text.strip()\n",
    "        ok = 0\n",
    "        k += 1\n",
    "df.to_html(\"df.html\", header = False, index = False)"
   ]
  },
  {
   "cell_type": "code",
   "execution_count": 90,
   "metadata": {},
   "outputs": [
    {
     "data": {
      "text/plain": [
       "[<td class=\"column-1\"><strong>Equatorial Diameter:</strong></td>,\n",
       " <td class=\"column-2\">6,792 km<br/>\n",
       " </td>,\n",
       " <td class=\"column-1\"><strong>Polar Diameter:</strong></td>,\n",
       " <td class=\"column-2\">6,752 km<br/>\n",
       " </td>,\n",
       " <td class=\"column-1\"><strong>Mass:</strong></td>,\n",
       " <td class=\"column-2\">6.42 x 10^23 kg (10.7% Earth)</td>,\n",
       " <td class=\"column-1\"><strong>Moons:</strong></td>,\n",
       " <td class=\"column-2\">2 (<a href=\"https://space-facts.com/phobos/\">Phobos</a> &amp; <a href=\"https://space-facts.com/deimos/\">Deimos</a>)</td>,\n",
       " <td class=\"column-1\"><strong>Orbit Distance:</strong></td>,\n",
       " <td class=\"column-2\">227,943,824 km (1.52 AU)</td>,\n",
       " <td class=\"column-1\"><strong>Orbit Period:</strong></td>,\n",
       " <td class=\"column-2\">687 days (1.9 years)<br/>\n",
       " </td>,\n",
       " <td class=\"column-1\"><strong>Surface Temperature: </strong></td>,\n",
       " <td class=\"column-2\">-153 to 20 °C</td>,\n",
       " <td class=\"column-1\"><strong>First Record:</strong></td>,\n",
       " <td class=\"column-2\">2nd millennium BC</td>,\n",
       " <td class=\"column-1\"><strong>Recorded By:</strong></td>,\n",
       " <td class=\"column-2\">Egyptian astronomers</td>]"
      ]
     },
     "execution_count": 90,
     "metadata": {},
     "output_type": "execute_result"
    }
   ],
   "source": [
    "url = 'https://astrogeology.usgs.gov/search/results?q=hemisphere+enhanced&k1=target&v1=Mars'\n",
    "browser.visit(url)\n",
    "browser.click_link_by_partial_text('Hemisphere')\n",
    "soup = BeautifulSoup(browser.html, 'html.parser')\n",
    "browser.back()"
   ]
  },
  {
   "cell_type": "code",
   "execution_count": 128,
   "metadata": {},
   "outputs": [
    {
     "data": {
      "text/plain": [
       "[{'img_url': 'http://astropedia.astrogeology.usgs.gov/download/Mars/Viking/cerberus_enhanced.tif/full.jpg',\n",
       "  'title': 'Cerberus Hemisphere Enhanced'},\n",
       " {'img_url': 'http://astropedia.astrogeology.usgs.gov/download/Mars/Viking/schiaparelli_enhanced.tif/full.jpg',\n",
       "  'title': 'Schiaparelli Hemisphere Enhanced'},\n",
       " {'img_url': 'http://astropedia.astrogeology.usgs.gov/download/Mars/Viking/syrtis_major_enhanced.tif/full.jpg',\n",
       "  'title': 'Syrtis Major Hemisphere Enhanced'},\n",
       " {'img_url': 'http://astropedia.astrogeology.usgs.gov/download/Mars/Viking/valles_marineris_enhanced.tif/full.jpg',\n",
       "  'title': 'Valles Marineris Hemisphere Enhanced'}]"
      ]
     },
     "execution_count": 128,
     "metadata": {},
     "output_type": "execute_result"
    }
   ],
   "source": [
    "executable_path = {'executable_path': '/usr/local/bin/chromedriver'}\n",
    "browser = Browser('chrome', **executable_path, headless = True)\n",
    "url = 'https://astrogeology.usgs.gov/search/results?q=hemisphere+enhanced&k1=target&v1=Mars'\n",
    "browser.visit(url)\n",
    "soup = BeautifulSoup(browser.html, 'html.parser')\n",
    "ar = soup.find_all('div', 'description')\n",
    "hemis = []\n",
    "hemisphere_image_urls = []\n",
    "for e in ar:\n",
    "    hemis.append(e.find(\"h3\").text)\n",
    "for title in hemis:\n",
    "    new = {}\n",
    "    browser.click_link_by_partial_href(title[1:title.find(\" \")])\n",
    "    soup = BeautifulSoup(browser.html, 'html.parser')\n",
    "    img_url = soup.find('div', 'downloads').find('a')['href']\n",
    "    new[\"title\"] = title\n",
    "    new[\"img_url\"] = img_url\n",
    "    hemisphere_image_urls.append(new)\n",
    "    browser.back()\n",
    "hemisphere_image_urls"
   ]
  },
  {
   "cell_type": "code",
   "execution_count": 125,
   "metadata": {},
   "outputs": [
    {
     "name": "stdout",
     "output_type": "stream",
     "text": [
      "http://astropedia.astrogeology.usgs.gov/download/Mars/Viking/cerberus_enhanced.tif/full.jpg\n"
     ]
    }
   ],
   "source": [
    "\n",
    "url = 'https://astrogeology.usgs.gov/search/results?q=hemisphere+enhanced&k1=target&v1=Mars'\n",
    "browser.visit(url)\n"
   ]
  },
  {
   "cell_type": "code",
   "execution_count": 108,
   "metadata": {},
   "outputs": [
    {
     "data": {
      "text/plain": [
       "['Cerberus Hemisphere Enhanced',\n",
       " 'Schiaparelli Hemisphere Enhanced',\n",
       " 'Syrtis Major Hemisphere Enhanced',\n",
       " 'Valles Marineris Hemisphere Enhanced']"
      ]
     },
     "execution_count": 108,
     "metadata": {},
     "output_type": "execute_result"
    }
   ],
   "source": [
    "hemis"
   ]
  },
  {
   "cell_type": "code",
   "execution_count": 130,
   "metadata": {},
   "outputs": [
    {
     "data": {
      "text/plain": [
       "'Valles Marineris Hemisphere Enhanced'"
      ]
     },
     "execution_count": 130,
     "metadata": {},
     "output_type": "execute_result"
    }
   ],
   "source": []
  },
  {
   "cell_type": "code",
   "execution_count": 131,
   "metadata": {
    "collapsed": true
   },
   "outputs": [],
   "source": [
    "df.to_csv(\"df.csv\", index=False, header=False)"
   ]
  },
  {
   "cell_type": "code",
   "execution_count": null,
   "metadata": {
    "collapsed": true
   },
   "outputs": [],
   "source": []
  }
 ],
 "metadata": {
  "kernelspec": {
   "display_name": "Python [conda env:PythonData]",
   "language": "python",
   "name": "conda-env-PythonData-py"
  },
  "language_info": {
   "codemirror_mode": {
    "name": "ipython",
    "version": 3
   },
   "file_extension": ".py",
   "mimetype": "text/x-python",
   "name": "python",
   "nbconvert_exporter": "python",
   "pygments_lexer": "ipython3",
   "version": "3.6.1"
  }
 },
 "nbformat": 4,
 "nbformat_minor": 2
}
